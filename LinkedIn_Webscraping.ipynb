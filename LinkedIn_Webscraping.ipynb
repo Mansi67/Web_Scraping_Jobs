{
  "nbformat": 4,
  "nbformat_minor": 0,
  "metadata": {
    "colab": {
      "provenance": [],
      "include_colab_link": true
    },
    "kernelspec": {
      "name": "python3",
      "display_name": "Python 3"
    },
    "language_info": {
      "name": "python"
    }
  },
  "cells": [
    {
      "cell_type": "markdown",
      "metadata": {
        "id": "view-in-github",
        "colab_type": "text"
      },
      "source": [
        "<a href=\"https://colab.research.google.com/github/Mansi67/Web_Scraping_Jobs/blob/main/LinkedIn_Webscraping.ipynb\" target=\"_parent\"><img src=\"https://colab.research.google.com/assets/colab-badge.svg\" alt=\"Open In Colab\"/></a>"
      ]
    },
    {
      "cell_type": "markdown",
      "source": [
        "## **Problem Statement: Navigating the Data Science Job Landscape**\n",
        "\n",
        "🚀 Unleash your creativity in crafting a solution that taps into the heartbeat of the data science job market! Envision an ingenious project that seamlessly wields cutting-edge web scraping techniques and illuminating data analysis.\n",
        "\n",
        "🔍 Your mission? To engineer a tool that effortlessly gathers job listings from a multitude of online sources, extracting pivotal nuggets such as job descriptions, qualifications, locations, and salaries.\n",
        "\n",
        "🧩 However, the true puzzle lies in deciphering this trove of data. Can your solution discern patterns that spotlight the most coveted skills? Are there threads connecting job types to compensation packages? How might it predict shifts in industry demand?\n",
        "\n",
        "🎯 The core objectives of this challenge are as follows:\n",
        "\n",
        "1. Web Scraping Mastery: Forge an adaptable and potent web scraping mechanism. Your creation should adeptly harvest data science job postings from a diverse array of online platforms. Be ready to navigate evolving website structures and process hefty data loads.\n",
        "\n",
        "2. Data Symphony: Skillfully distill vital insights from the harvested job listings. Extract and cleanse critical information like job titles, company names, descriptions, qualifications, salaries, locations, and deadlines. Think data refinement and organization.\n",
        "\n",
        "3. Market Wizardry: Conjure up analytical tools that conjure meaningful revelations from the gathered data. Dive into the abyss of job demand trends, geographic distribution, salary variations tied to experience and location, favored qualifications, and emerging skill demands.\n",
        "\n",
        "4. Visual Magic: Weave a tapestry of visualization magic. Design captivating charts, graphs, and visual representations that paint a crystal-clear picture of the analyzed data. Make these visuals the compass that guides users through job market intricacies.\n",
        "\n",
        "🌐 While the web scraping universe is yours to explore, consider these platforms as potential stomping grounds:\n",
        "\n",
        "* LinkedIn Jobs\n",
        "* Indeed\n",
        "* Naukri\n",
        "* Glassdoor\n",
        "* AngelList\n",
        "\n",
        "🎈 Your solution should not only decode the data science job realm but also empower professionals, job seekers, and recruiters to harness the dynamic shifts of the industry. The path is open, the challenge beckons – are you ready to embark on this exciting journey?\n",
        "\n",
        "\n",
        "\n",
        "\n"
      ],
      "metadata": {
        "id": "WC4RKKoko7qr"
      }
    },
    {
      "cell_type": "markdown",
      "source": [
        "# LinkedIn Jobs\n",
        "\n",
        "#### I utilized Python's BeautifulSoup library to scrape a dataset from LinkedIn. Specifically, I filtered jobs by specifying India as the country and the job title as \"data scientist.\" Each page contained 25 job listings, and I collected data from 10 continuous pages for this particular project. So, the dataset contains 1250 recent job listings.\n",
        "Date of collection: 11/12/2023\n",
        "\n",
        "#### I've managed to gather information through web scraping that includes the company names, job titles, job locations, types of employment, industries, seniority levels, and job functions.\n"
      ],
      "metadata": {
        "id": "2MfJnD1Yb468"
      }
    },
    {
      "cell_type": "code",
      "execution_count": null,
      "metadata": {
        "id": "aqcwJ-eXozg2",
        "colab": {
          "base_uri": "https://localhost:8080/"
        },
        "outputId": "4b355ad2-2ccc-4e12-fbd8-408442a748d8"
      },
      "outputs": [
        {
          "output_type": "stream",
          "name": "stdout",
          "text": [
            "Requirement already satisfied: requests in /usr/local/lib/python3.10/dist-packages (2.31.0)\n",
            "Requirement already satisfied: charset-normalizer<4,>=2 in /usr/local/lib/python3.10/dist-packages (from requests) (3.3.2)\n",
            "Requirement already satisfied: idna<4,>=2.5 in /usr/local/lib/python3.10/dist-packages (from requests) (3.6)\n",
            "Requirement already satisfied: urllib3<3,>=1.21.1 in /usr/local/lib/python3.10/dist-packages (from requests) (2.0.7)\n",
            "Requirement already satisfied: certifi>=2017.4.17 in /usr/local/lib/python3.10/dist-packages (from requests) (2023.11.17)\n",
            "Requirement already satisfied: beautifulsoup4 in /usr/local/lib/python3.10/dist-packages (4.11.2)\n",
            "Requirement already satisfied: soupsieve>1.2 in /usr/local/lib/python3.10/dist-packages (from beautifulsoup4) (2.5)\n"
          ]
        }
      ],
      "source": [
        "!pip install requests\n",
        "!pip install beautifulsoup4"
      ]
    },
    {
      "cell_type": "code",
      "source": [
        "import requests\n",
        "from bs4 import BeautifulSoup\n",
        "import math\n",
        "import pandas as pd\n",
        "import random\n",
        "import time\n",
        "import matplotlib.pyplot as plt\n",
        "import seaborn as sns"
      ],
      "metadata": {
        "id": "OPuYLHDRq2rI"
      },
      "execution_count": 6,
      "outputs": []
    },
    {
      "cell_type": "code",
      "source": [
        "l=[]\n",
        "k=[]\n",
        "o={}\n",
        "target_url='https://www.linkedin.com/jobs-guest/jobs/api/seeMoreJobPostings/search?keywords=data%20scientist&location=India&geoId=102713980&trk=public_jobs_jobs-search-bar_search-submit&position=1&pageNum=0&currentJobId=3761864489&start={}'\n",
        "for i in range(0,50): #50 pages\n",
        "    res = requests.get(target_url.format(i))\n",
        "    soup=BeautifulSoup(res.text,'html.parser')\n",
        "    alljobs_on_this_page=soup.find_all(\"li\")\n",
        "    print(len(alljobs_on_this_page)) #Each containing 25 jobs\n",
        "    for x in range(0,len(alljobs_on_this_page)):\n",
        "        jobid = alljobs_on_this_page[x].find(\"div\",{\"class\":\"base-card\"}).get('data-entity-urn').split(\":\")[3]\n",
        "        l.append(jobid)\n",
        "target_url='https://www.linkedin.com/jobs-guest/jobs/api/jobPosting/{}'\n",
        "for j in range(0,len(l)):\n",
        "    resp = requests.get(target_url.format(l[j]))\n",
        "    soup=BeautifulSoup(resp.text,'html.parser')\n",
        "    try:\n",
        "        o[\"Company\"]=soup.find(\"div\",{\"class\":\"top-card-layout__card\"}).find(\"a\").find(\"img\").get('alt')\n",
        "        # soup.find(\"span\",{\"class\": \"topcard__flavor\"}).find(\"a\").text.strip()\n",
        "    except:\n",
        "        o[\"Company\"]=None\n",
        "    try:\n",
        "        o[\"Job-title\"]=soup.find(\"div\",{\"class\":\"top-card-layout__entity-info\"}).find(\"a\").text.strip()\n",
        "    except:\n",
        "        o[\"Job-title\"]=None\n",
        "    try:\n",
        "      o['Location']=soup.find(\"span\",{\"class\" :\"topcard__flavor topcard__flavor--bullet\"}).text.strip()\n",
        "    except:\n",
        "      o['Location']=None\n",
        "    try:\n",
        "        o[\"Seniority-Level\"]=soup.find(\"ul\",{\"class\":\"description__job-criteria-list\"}).find_all(\"li\")[0].find(\"span\").text.strip()\n",
        "        # text.replace(\"Seniority level\",\"\").strip()\n",
        "    except:\n",
        "        o[\"Seniority-Level\"]=None\n",
        "    try:\n",
        "         o[\"Employment-Type\"]=soup.find(\"ul\",{\"class\":\"description__job-criteria-list\"}).find_all(\"li\")[1].find(\"span\").text.strip()\n",
        "    except:\n",
        "         o[\"Employment-Type\"]=None\n",
        "    try:\n",
        "         o[\"Job-Function\"]=soup.find(\"ul\",{\"class\":\"description__job-criteria-list\"}).find_all(\"li\")[2].find(\"span\").text.strip()\n",
        "    except:\n",
        "         o[\"Job-Function\"]=None\n",
        "    try:\n",
        "         o[\"Industry\"]=soup.find(\"ul\",{\"class\":\"description__job-criteria-list\"}).find_all(\"li\")[3].find(\"span\").text.strip()\n",
        "    except:\n",
        "         o[\"Industry\"]=None\n",
        "\n",
        "    k.append(o)\n",
        "    o={}\n",
        "    # Add a random delay between 1 to 5 seconds\n",
        "    delay = random.uniform(1, 10)\n",
        "    time.sleep(delay)"
      ],
      "metadata": {
        "id": "NsE9BsNfrCFc",
        "colab": {
          "base_uri": "https://localhost:8080/"
        },
        "outputId": "e52a99c4-fda2-4e2e-cf87-ad6b8e8e60a9"
      },
      "execution_count": null,
      "outputs": [
        {
          "output_type": "stream",
          "name": "stdout",
          "text": [
            "25\n",
            "25\n",
            "25\n",
            "25\n",
            "25\n",
            "25\n",
            "25\n",
            "25\n",
            "25\n",
            "25\n",
            "25\n",
            "25\n",
            "25\n",
            "25\n",
            "25\n",
            "25\n",
            "25\n",
            "25\n",
            "25\n",
            "25\n",
            "25\n",
            "25\n",
            "25\n",
            "25\n",
            "25\n",
            "25\n",
            "25\n",
            "25\n",
            "25\n",
            "25\n",
            "25\n",
            "25\n",
            "25\n",
            "25\n",
            "25\n",
            "25\n",
            "25\n",
            "25\n",
            "25\n",
            "25\n",
            "25\n",
            "25\n",
            "25\n",
            "25\n",
            "25\n",
            "25\n",
            "25\n",
            "25\n",
            "25\n",
            "25\n"
          ]
        }
      ]
    },
    {
      "cell_type": "code",
      "source": [
        "df = pd.DataFrame(k)"
      ],
      "metadata": {
        "id": "puLLlrJ8xLzc"
      },
      "execution_count": null,
      "outputs": []
    },
    {
      "cell_type": "code",
      "source": [
        "df"
      ],
      "metadata": {
        "colab": {
          "base_uri": "https://localhost:8080/",
          "height": 1442
        },
        "id": "Z-UvRsf9M8Jw",
        "outputId": "914b2c6f-5a86-40e0-d8e8-c9cd06a3073e"
      },
      "execution_count": null,
      "outputs": [
        {
          "output_type": "execute_result",
          "data": {
            "text/plain": [
              "                                                Company  \\\n",
              "0                                               Experfy   \n",
              "1                                            XenonStack   \n",
              "2                                  Tamcherry - Zaportiv   \n",
              "3                               Trexquant Investment LP   \n",
              "4     Dubai Jobs, Gulf Jobs, Jobs in Dubai, Qatar, K...   \n",
              "...                                                 ...   \n",
              "1245                                        Adani Group   \n",
              "1246                 LSEG (London Stock Exchange Group)   \n",
              "1247                                            Fractal   \n",
              "1248                                         XenonStack   \n",
              "1249                                                IBM   \n",
              "\n",
              "                                             Job-title  \\\n",
              "0                                 AI/ML Data Scientist   \n",
              "1                                          ML Engineer   \n",
              "2                                      AI/ML Developer   \n",
              "3                               Data Scientist (INDIA)   \n",
              "4                MACHINE LEARNING AI PLATFORM ENGINEER   \n",
              "...                                                ...   \n",
              "1245                Data Science - AI Solutions Expert   \n",
              "1246                                    Data Scientist   \n",
              "1247  Data Scientist/ Senior Data Scientist- NLP GenAI   \n",
              "1248                                       ML Engineer   \n",
              "1249                                    Data Scientist   \n",
              "\n",
              "                                       Location   Seniority-Level  \\\n",
              "0                   Bengaluru, Karnataka, India  Mid-Senior level   \n",
              "1     Sahibzada Ajit Singh Nagar, Punjab, India       Entry level   \n",
              "2             Bangalore Urban, Karnataka, India  Mid-Senior level   \n",
              "3                      Gurugram, Haryana, India         Associate   \n",
              "4             Bangalore Urban, Karnataka, India       Entry level   \n",
              "...                                         ...               ...   \n",
              "1245                Kolkata, West Bengal, India  Mid-Senior level   \n",
              "1246           Bengaluru East, Karnataka, India         Associate   \n",
              "1247                Bengaluru, Karnataka, India  Mid-Senior level   \n",
              "1248  Sahibzada Ajit Singh Nagar, Punjab, India       Entry level   \n",
              "1249           Bengaluru East, Karnataka, India    Not Applicable   \n",
              "\n",
              "     Employment-Type                                      Job-Function  \\\n",
              "0          Full-time            Engineering and Information Technology   \n",
              "1          Full-time  Information Technology, Analyst, and Engineering   \n",
              "2          Full-time            Engineering and Information Technology   \n",
              "3          Full-time                                          Research   \n",
              "4          Full-time            Engineering and Information Technology   \n",
              "...              ...                                               ...   \n",
              "1245       Full-time                                             Other   \n",
              "1246       Full-time            Engineering and Information Technology   \n",
              "1247       Full-time            Engineering and Information Technology   \n",
              "1248       Full-time  Information Technology, Analyst, and Engineering   \n",
              "1249       Full-time                            Information Technology   \n",
              "\n",
              "                                               Industry  \n",
              "0                  Technology, Information and Internet  \n",
              "1     IT Services and IT Consulting, Software Develo...  \n",
              "2                     Information Technology & Services  \n",
              "3                  Technology, Information and Internet  \n",
              "4                               Staffing and Recruiting  \n",
              "...                                                 ...  \n",
              "1245                                          Utilities  \n",
              "1246  IT Services and IT Consulting and Financial Se...  \n",
              "1247                   Business Consulting and Services  \n",
              "1248  IT Services and IT Consulting, Software Develo...  \n",
              "1249                    Computer Hardware Manufacturing  \n",
              "\n",
              "[1250 rows x 7 columns]"
            ],
            "text/html": [
              "\n",
              "  <div id=\"df-6eb80c33-0104-4d76-8f0c-05c2e7839370\" class=\"colab-df-container\">\n",
              "    <div>\n",
              "<style scoped>\n",
              "    .dataframe tbody tr th:only-of-type {\n",
              "        vertical-align: middle;\n",
              "    }\n",
              "\n",
              "    .dataframe tbody tr th {\n",
              "        vertical-align: top;\n",
              "    }\n",
              "\n",
              "    .dataframe thead th {\n",
              "        text-align: right;\n",
              "    }\n",
              "</style>\n",
              "<table border=\"1\" class=\"dataframe\">\n",
              "  <thead>\n",
              "    <tr style=\"text-align: right;\">\n",
              "      <th></th>\n",
              "      <th>Company</th>\n",
              "      <th>Job-title</th>\n",
              "      <th>Location</th>\n",
              "      <th>Seniority-Level</th>\n",
              "      <th>Employment-Type</th>\n",
              "      <th>Job-Function</th>\n",
              "      <th>Industry</th>\n",
              "    </tr>\n",
              "  </thead>\n",
              "  <tbody>\n",
              "    <tr>\n",
              "      <th>0</th>\n",
              "      <td>Experfy</td>\n",
              "      <td>AI/ML Data Scientist</td>\n",
              "      <td>Bengaluru, Karnataka, India</td>\n",
              "      <td>Mid-Senior level</td>\n",
              "      <td>Full-time</td>\n",
              "      <td>Engineering and Information Technology</td>\n",
              "      <td>Technology, Information and Internet</td>\n",
              "    </tr>\n",
              "    <tr>\n",
              "      <th>1</th>\n",
              "      <td>XenonStack</td>\n",
              "      <td>ML Engineer</td>\n",
              "      <td>Sahibzada Ajit Singh Nagar, Punjab, India</td>\n",
              "      <td>Entry level</td>\n",
              "      <td>Full-time</td>\n",
              "      <td>Information Technology, Analyst, and Engineering</td>\n",
              "      <td>IT Services and IT Consulting, Software Develo...</td>\n",
              "    </tr>\n",
              "    <tr>\n",
              "      <th>2</th>\n",
              "      <td>Tamcherry - Zaportiv</td>\n",
              "      <td>AI/ML Developer</td>\n",
              "      <td>Bangalore Urban, Karnataka, India</td>\n",
              "      <td>Mid-Senior level</td>\n",
              "      <td>Full-time</td>\n",
              "      <td>Engineering and Information Technology</td>\n",
              "      <td>Information Technology &amp; Services</td>\n",
              "    </tr>\n",
              "    <tr>\n",
              "      <th>3</th>\n",
              "      <td>Trexquant Investment LP</td>\n",
              "      <td>Data Scientist (INDIA)</td>\n",
              "      <td>Gurugram, Haryana, India</td>\n",
              "      <td>Associate</td>\n",
              "      <td>Full-time</td>\n",
              "      <td>Research</td>\n",
              "      <td>Technology, Information and Internet</td>\n",
              "    </tr>\n",
              "    <tr>\n",
              "      <th>4</th>\n",
              "      <td>Dubai Jobs, Gulf Jobs, Jobs in Dubai, Qatar, K...</td>\n",
              "      <td>MACHINE LEARNING AI PLATFORM ENGINEER</td>\n",
              "      <td>Bangalore Urban, Karnataka, India</td>\n",
              "      <td>Entry level</td>\n",
              "      <td>Full-time</td>\n",
              "      <td>Engineering and Information Technology</td>\n",
              "      <td>Staffing and Recruiting</td>\n",
              "    </tr>\n",
              "    <tr>\n",
              "      <th>...</th>\n",
              "      <td>...</td>\n",
              "      <td>...</td>\n",
              "      <td>...</td>\n",
              "      <td>...</td>\n",
              "      <td>...</td>\n",
              "      <td>...</td>\n",
              "      <td>...</td>\n",
              "    </tr>\n",
              "    <tr>\n",
              "      <th>1245</th>\n",
              "      <td>Adani Group</td>\n",
              "      <td>Data Science - AI Solutions Expert</td>\n",
              "      <td>Kolkata, West Bengal, India</td>\n",
              "      <td>Mid-Senior level</td>\n",
              "      <td>Full-time</td>\n",
              "      <td>Other</td>\n",
              "      <td>Utilities</td>\n",
              "    </tr>\n",
              "    <tr>\n",
              "      <th>1246</th>\n",
              "      <td>LSEG (London Stock Exchange Group)</td>\n",
              "      <td>Data Scientist</td>\n",
              "      <td>Bengaluru East, Karnataka, India</td>\n",
              "      <td>Associate</td>\n",
              "      <td>Full-time</td>\n",
              "      <td>Engineering and Information Technology</td>\n",
              "      <td>IT Services and IT Consulting and Financial Se...</td>\n",
              "    </tr>\n",
              "    <tr>\n",
              "      <th>1247</th>\n",
              "      <td>Fractal</td>\n",
              "      <td>Data Scientist/ Senior Data Scientist- NLP GenAI</td>\n",
              "      <td>Bengaluru, Karnataka, India</td>\n",
              "      <td>Mid-Senior level</td>\n",
              "      <td>Full-time</td>\n",
              "      <td>Engineering and Information Technology</td>\n",
              "      <td>Business Consulting and Services</td>\n",
              "    </tr>\n",
              "    <tr>\n",
              "      <th>1248</th>\n",
              "      <td>XenonStack</td>\n",
              "      <td>ML Engineer</td>\n",
              "      <td>Sahibzada Ajit Singh Nagar, Punjab, India</td>\n",
              "      <td>Entry level</td>\n",
              "      <td>Full-time</td>\n",
              "      <td>Information Technology, Analyst, and Engineering</td>\n",
              "      <td>IT Services and IT Consulting, Software Develo...</td>\n",
              "    </tr>\n",
              "    <tr>\n",
              "      <th>1249</th>\n",
              "      <td>IBM</td>\n",
              "      <td>Data Scientist</td>\n",
              "      <td>Bengaluru East, Karnataka, India</td>\n",
              "      <td>Not Applicable</td>\n",
              "      <td>Full-time</td>\n",
              "      <td>Information Technology</td>\n",
              "      <td>Computer Hardware Manufacturing</td>\n",
              "    </tr>\n",
              "  </tbody>\n",
              "</table>\n",
              "<p>1250 rows × 7 columns</p>\n",
              "</div>\n",
              "    <div class=\"colab-df-buttons\">\n",
              "\n",
              "  <div class=\"colab-df-container\">\n",
              "    <button class=\"colab-df-convert\" onclick=\"convertToInteractive('df-6eb80c33-0104-4d76-8f0c-05c2e7839370')\"\n",
              "            title=\"Convert this dataframe to an interactive table.\"\n",
              "            style=\"display:none;\">\n",
              "\n",
              "  <svg xmlns=\"http://www.w3.org/2000/svg\" height=\"24px\" viewBox=\"0 -960 960 960\">\n",
              "    <path d=\"M120-120v-720h720v720H120Zm60-500h600v-160H180v160Zm220 220h160v-160H400v160Zm0 220h160v-160H400v160ZM180-400h160v-160H180v160Zm440 0h160v-160H620v160ZM180-180h160v-160H180v160Zm440 0h160v-160H620v160Z\"/>\n",
              "  </svg>\n",
              "    </button>\n",
              "\n",
              "  <style>\n",
              "    .colab-df-container {\n",
              "      display:flex;\n",
              "      gap: 12px;\n",
              "    }\n",
              "\n",
              "    .colab-df-convert {\n",
              "      background-color: #E8F0FE;\n",
              "      border: none;\n",
              "      border-radius: 50%;\n",
              "      cursor: pointer;\n",
              "      display: none;\n",
              "      fill: #1967D2;\n",
              "      height: 32px;\n",
              "      padding: 0 0 0 0;\n",
              "      width: 32px;\n",
              "    }\n",
              "\n",
              "    .colab-df-convert:hover {\n",
              "      background-color: #E2EBFA;\n",
              "      box-shadow: 0px 1px 2px rgba(60, 64, 67, 0.3), 0px 1px 3px 1px rgba(60, 64, 67, 0.15);\n",
              "      fill: #174EA6;\n",
              "    }\n",
              "\n",
              "    .colab-df-buttons div {\n",
              "      margin-bottom: 4px;\n",
              "    }\n",
              "\n",
              "    [theme=dark] .colab-df-convert {\n",
              "      background-color: #3B4455;\n",
              "      fill: #D2E3FC;\n",
              "    }\n",
              "\n",
              "    [theme=dark] .colab-df-convert:hover {\n",
              "      background-color: #434B5C;\n",
              "      box-shadow: 0px 1px 3px 1px rgba(0, 0, 0, 0.15);\n",
              "      filter: drop-shadow(0px 1px 2px rgba(0, 0, 0, 0.3));\n",
              "      fill: #FFFFFF;\n",
              "    }\n",
              "  </style>\n",
              "\n",
              "    <script>\n",
              "      const buttonEl =\n",
              "        document.querySelector('#df-6eb80c33-0104-4d76-8f0c-05c2e7839370 button.colab-df-convert');\n",
              "      buttonEl.style.display =\n",
              "        google.colab.kernel.accessAllowed ? 'block' : 'none';\n",
              "\n",
              "      async function convertToInteractive(key) {\n",
              "        const element = document.querySelector('#df-6eb80c33-0104-4d76-8f0c-05c2e7839370');\n",
              "        const dataTable =\n",
              "          await google.colab.kernel.invokeFunction('convertToInteractive',\n",
              "                                                    [key], {});\n",
              "        if (!dataTable) return;\n",
              "\n",
              "        const docLinkHtml = 'Like what you see? Visit the ' +\n",
              "          '<a target=\"_blank\" href=https://colab.research.google.com/notebooks/data_table.ipynb>data table notebook</a>'\n",
              "          + ' to learn more about interactive tables.';\n",
              "        element.innerHTML = '';\n",
              "        dataTable['output_type'] = 'display_data';\n",
              "        await google.colab.output.renderOutput(dataTable, element);\n",
              "        const docLink = document.createElement('div');\n",
              "        docLink.innerHTML = docLinkHtml;\n",
              "        element.appendChild(docLink);\n",
              "      }\n",
              "    </script>\n",
              "  </div>\n",
              "\n",
              "\n",
              "<div id=\"df-43adadea-828b-4a7c-8361-6235d787d537\">\n",
              "  <button class=\"colab-df-quickchart\" onclick=\"quickchart('df-43adadea-828b-4a7c-8361-6235d787d537')\"\n",
              "            title=\"Suggest charts\"\n",
              "            style=\"display:none;\">\n",
              "\n",
              "<svg xmlns=\"http://www.w3.org/2000/svg\" height=\"24px\"viewBox=\"0 0 24 24\"\n",
              "     width=\"24px\">\n",
              "    <g>\n",
              "        <path d=\"M19 3H5c-1.1 0-2 .9-2 2v14c0 1.1.9 2 2 2h14c1.1 0 2-.9 2-2V5c0-1.1-.9-2-2-2zM9 17H7v-7h2v7zm4 0h-2V7h2v10zm4 0h-2v-4h2v4z\"/>\n",
              "    </g>\n",
              "</svg>\n",
              "  </button>\n",
              "\n",
              "<style>\n",
              "  .colab-df-quickchart {\n",
              "      --bg-color: #E8F0FE;\n",
              "      --fill-color: #1967D2;\n",
              "      --hover-bg-color: #E2EBFA;\n",
              "      --hover-fill-color: #174EA6;\n",
              "      --disabled-fill-color: #AAA;\n",
              "      --disabled-bg-color: #DDD;\n",
              "  }\n",
              "\n",
              "  [theme=dark] .colab-df-quickchart {\n",
              "      --bg-color: #3B4455;\n",
              "      --fill-color: #D2E3FC;\n",
              "      --hover-bg-color: #434B5C;\n",
              "      --hover-fill-color: #FFFFFF;\n",
              "      --disabled-bg-color: #3B4455;\n",
              "      --disabled-fill-color: #666;\n",
              "  }\n",
              "\n",
              "  .colab-df-quickchart {\n",
              "    background-color: var(--bg-color);\n",
              "    border: none;\n",
              "    border-radius: 50%;\n",
              "    cursor: pointer;\n",
              "    display: none;\n",
              "    fill: var(--fill-color);\n",
              "    height: 32px;\n",
              "    padding: 0;\n",
              "    width: 32px;\n",
              "  }\n",
              "\n",
              "  .colab-df-quickchart:hover {\n",
              "    background-color: var(--hover-bg-color);\n",
              "    box-shadow: 0 1px 2px rgba(60, 64, 67, 0.3), 0 1px 3px 1px rgba(60, 64, 67, 0.15);\n",
              "    fill: var(--button-hover-fill-color);\n",
              "  }\n",
              "\n",
              "  .colab-df-quickchart-complete:disabled,\n",
              "  .colab-df-quickchart-complete:disabled:hover {\n",
              "    background-color: var(--disabled-bg-color);\n",
              "    fill: var(--disabled-fill-color);\n",
              "    box-shadow: none;\n",
              "  }\n",
              "\n",
              "  .colab-df-spinner {\n",
              "    border: 2px solid var(--fill-color);\n",
              "    border-color: transparent;\n",
              "    border-bottom-color: var(--fill-color);\n",
              "    animation:\n",
              "      spin 1s steps(1) infinite;\n",
              "  }\n",
              "\n",
              "  @keyframes spin {\n",
              "    0% {\n",
              "      border-color: transparent;\n",
              "      border-bottom-color: var(--fill-color);\n",
              "      border-left-color: var(--fill-color);\n",
              "    }\n",
              "    20% {\n",
              "      border-color: transparent;\n",
              "      border-left-color: var(--fill-color);\n",
              "      border-top-color: var(--fill-color);\n",
              "    }\n",
              "    30% {\n",
              "      border-color: transparent;\n",
              "      border-left-color: var(--fill-color);\n",
              "      border-top-color: var(--fill-color);\n",
              "      border-right-color: var(--fill-color);\n",
              "    }\n",
              "    40% {\n",
              "      border-color: transparent;\n",
              "      border-right-color: var(--fill-color);\n",
              "      border-top-color: var(--fill-color);\n",
              "    }\n",
              "    60% {\n",
              "      border-color: transparent;\n",
              "      border-right-color: var(--fill-color);\n",
              "    }\n",
              "    80% {\n",
              "      border-color: transparent;\n",
              "      border-right-color: var(--fill-color);\n",
              "      border-bottom-color: var(--fill-color);\n",
              "    }\n",
              "    90% {\n",
              "      border-color: transparent;\n",
              "      border-bottom-color: var(--fill-color);\n",
              "    }\n",
              "  }\n",
              "</style>\n",
              "\n",
              "  <script>\n",
              "    async function quickchart(key) {\n",
              "      const quickchartButtonEl =\n",
              "        document.querySelector('#' + key + ' button');\n",
              "      quickchartButtonEl.disabled = true;  // To prevent multiple clicks.\n",
              "      quickchartButtonEl.classList.add('colab-df-spinner');\n",
              "      try {\n",
              "        const charts = await google.colab.kernel.invokeFunction(\n",
              "            'suggestCharts', [key], {});\n",
              "      } catch (error) {\n",
              "        console.error('Error during call to suggestCharts:', error);\n",
              "      }\n",
              "      quickchartButtonEl.classList.remove('colab-df-spinner');\n",
              "      quickchartButtonEl.classList.add('colab-df-quickchart-complete');\n",
              "    }\n",
              "    (() => {\n",
              "      let quickchartButtonEl =\n",
              "        document.querySelector('#df-43adadea-828b-4a7c-8361-6235d787d537 button');\n",
              "      quickchartButtonEl.style.display =\n",
              "        google.colab.kernel.accessAllowed ? 'block' : 'none';\n",
              "    })();\n",
              "  </script>\n",
              "</div>\n",
              "    </div>\n",
              "  </div>\n"
            ]
          },
          "metadata": {},
          "execution_count": 108
        }
      ]
    },
    {
      "cell_type": "code",
      "source": [
        "df.tail(5)"
      ],
      "metadata": {
        "colab": {
          "base_uri": "https://localhost:8080/",
          "height": 362
        },
        "id": "1I5OfH4YM8tD",
        "outputId": "49ddeacf-2fab-4ce6-a5e0-3198ba30b5da"
      },
      "execution_count": null,
      "outputs": [
        {
          "output_type": "execute_result",
          "data": {
            "text/plain": [
              "                                 Company  \\\n",
              "1245                         Adani Group   \n",
              "1246  LSEG (London Stock Exchange Group)   \n",
              "1247                             Fractal   \n",
              "1248                          XenonStack   \n",
              "1249                                 IBM   \n",
              "\n",
              "                                             Job-title  \\\n",
              "1245                Data Science - AI Solutions Expert   \n",
              "1246                                    Data Scientist   \n",
              "1247  Data Scientist/ Senior Data Scientist- NLP GenAI   \n",
              "1248                                       ML Engineer   \n",
              "1249                                    Data Scientist   \n",
              "\n",
              "                                       Location   Seniority-Level  \\\n",
              "1245                Kolkata, West Bengal, India  Mid-Senior level   \n",
              "1246           Bengaluru East, Karnataka, India         Associate   \n",
              "1247                Bengaluru, Karnataka, India  Mid-Senior level   \n",
              "1248  Sahibzada Ajit Singh Nagar, Punjab, India       Entry level   \n",
              "1249           Bengaluru East, Karnataka, India    Not Applicable   \n",
              "\n",
              "     Employment-Type                                      Job-Function  \\\n",
              "1245       Full-time                                             Other   \n",
              "1246       Full-time            Engineering and Information Technology   \n",
              "1247       Full-time            Engineering and Information Technology   \n",
              "1248       Full-time  Information Technology, Analyst, and Engineering   \n",
              "1249       Full-time                            Information Technology   \n",
              "\n",
              "                                               Industry  \n",
              "1245                                          Utilities  \n",
              "1246  IT Services and IT Consulting and Financial Se...  \n",
              "1247                   Business Consulting and Services  \n",
              "1248  IT Services and IT Consulting, Software Develo...  \n",
              "1249                    Computer Hardware Manufacturing  "
            ],
            "text/html": [
              "\n",
              "  <div id=\"df-c0186b76-4261-4e46-a737-38b1c55ca7b7\" class=\"colab-df-container\">\n",
              "    <div>\n",
              "<style scoped>\n",
              "    .dataframe tbody tr th:only-of-type {\n",
              "        vertical-align: middle;\n",
              "    }\n",
              "\n",
              "    .dataframe tbody tr th {\n",
              "        vertical-align: top;\n",
              "    }\n",
              "\n",
              "    .dataframe thead th {\n",
              "        text-align: right;\n",
              "    }\n",
              "</style>\n",
              "<table border=\"1\" class=\"dataframe\">\n",
              "  <thead>\n",
              "    <tr style=\"text-align: right;\">\n",
              "      <th></th>\n",
              "      <th>Company</th>\n",
              "      <th>Job-title</th>\n",
              "      <th>Location</th>\n",
              "      <th>Seniority-Level</th>\n",
              "      <th>Employment-Type</th>\n",
              "      <th>Job-Function</th>\n",
              "      <th>Industry</th>\n",
              "    </tr>\n",
              "  </thead>\n",
              "  <tbody>\n",
              "    <tr>\n",
              "      <th>1245</th>\n",
              "      <td>Adani Group</td>\n",
              "      <td>Data Science - AI Solutions Expert</td>\n",
              "      <td>Kolkata, West Bengal, India</td>\n",
              "      <td>Mid-Senior level</td>\n",
              "      <td>Full-time</td>\n",
              "      <td>Other</td>\n",
              "      <td>Utilities</td>\n",
              "    </tr>\n",
              "    <tr>\n",
              "      <th>1246</th>\n",
              "      <td>LSEG (London Stock Exchange Group)</td>\n",
              "      <td>Data Scientist</td>\n",
              "      <td>Bengaluru East, Karnataka, India</td>\n",
              "      <td>Associate</td>\n",
              "      <td>Full-time</td>\n",
              "      <td>Engineering and Information Technology</td>\n",
              "      <td>IT Services and IT Consulting and Financial Se...</td>\n",
              "    </tr>\n",
              "    <tr>\n",
              "      <th>1247</th>\n",
              "      <td>Fractal</td>\n",
              "      <td>Data Scientist/ Senior Data Scientist- NLP GenAI</td>\n",
              "      <td>Bengaluru, Karnataka, India</td>\n",
              "      <td>Mid-Senior level</td>\n",
              "      <td>Full-time</td>\n",
              "      <td>Engineering and Information Technology</td>\n",
              "      <td>Business Consulting and Services</td>\n",
              "    </tr>\n",
              "    <tr>\n",
              "      <th>1248</th>\n",
              "      <td>XenonStack</td>\n",
              "      <td>ML Engineer</td>\n",
              "      <td>Sahibzada Ajit Singh Nagar, Punjab, India</td>\n",
              "      <td>Entry level</td>\n",
              "      <td>Full-time</td>\n",
              "      <td>Information Technology, Analyst, and Engineering</td>\n",
              "      <td>IT Services and IT Consulting, Software Develo...</td>\n",
              "    </tr>\n",
              "    <tr>\n",
              "      <th>1249</th>\n",
              "      <td>IBM</td>\n",
              "      <td>Data Scientist</td>\n",
              "      <td>Bengaluru East, Karnataka, India</td>\n",
              "      <td>Not Applicable</td>\n",
              "      <td>Full-time</td>\n",
              "      <td>Information Technology</td>\n",
              "      <td>Computer Hardware Manufacturing</td>\n",
              "    </tr>\n",
              "  </tbody>\n",
              "</table>\n",
              "</div>\n",
              "    <div class=\"colab-df-buttons\">\n",
              "\n",
              "  <div class=\"colab-df-container\">\n",
              "    <button class=\"colab-df-convert\" onclick=\"convertToInteractive('df-c0186b76-4261-4e46-a737-38b1c55ca7b7')\"\n",
              "            title=\"Convert this dataframe to an interactive table.\"\n",
              "            style=\"display:none;\">\n",
              "\n",
              "  <svg xmlns=\"http://www.w3.org/2000/svg\" height=\"24px\" viewBox=\"0 -960 960 960\">\n",
              "    <path d=\"M120-120v-720h720v720H120Zm60-500h600v-160H180v160Zm220 220h160v-160H400v160Zm0 220h160v-160H400v160ZM180-400h160v-160H180v160Zm440 0h160v-160H620v160ZM180-180h160v-160H180v160Zm440 0h160v-160H620v160Z\"/>\n",
              "  </svg>\n",
              "    </button>\n",
              "\n",
              "  <style>\n",
              "    .colab-df-container {\n",
              "      display:flex;\n",
              "      gap: 12px;\n",
              "    }\n",
              "\n",
              "    .colab-df-convert {\n",
              "      background-color: #E8F0FE;\n",
              "      border: none;\n",
              "      border-radius: 50%;\n",
              "      cursor: pointer;\n",
              "      display: none;\n",
              "      fill: #1967D2;\n",
              "      height: 32px;\n",
              "      padding: 0 0 0 0;\n",
              "      width: 32px;\n",
              "    }\n",
              "\n",
              "    .colab-df-convert:hover {\n",
              "      background-color: #E2EBFA;\n",
              "      box-shadow: 0px 1px 2px rgba(60, 64, 67, 0.3), 0px 1px 3px 1px rgba(60, 64, 67, 0.15);\n",
              "      fill: #174EA6;\n",
              "    }\n",
              "\n",
              "    .colab-df-buttons div {\n",
              "      margin-bottom: 4px;\n",
              "    }\n",
              "\n",
              "    [theme=dark] .colab-df-convert {\n",
              "      background-color: #3B4455;\n",
              "      fill: #D2E3FC;\n",
              "    }\n",
              "\n",
              "    [theme=dark] .colab-df-convert:hover {\n",
              "      background-color: #434B5C;\n",
              "      box-shadow: 0px 1px 3px 1px rgba(0, 0, 0, 0.15);\n",
              "      filter: drop-shadow(0px 1px 2px rgba(0, 0, 0, 0.3));\n",
              "      fill: #FFFFFF;\n",
              "    }\n",
              "  </style>\n",
              "\n",
              "    <script>\n",
              "      const buttonEl =\n",
              "        document.querySelector('#df-c0186b76-4261-4e46-a737-38b1c55ca7b7 button.colab-df-convert');\n",
              "      buttonEl.style.display =\n",
              "        google.colab.kernel.accessAllowed ? 'block' : 'none';\n",
              "\n",
              "      async function convertToInteractive(key) {\n",
              "        const element = document.querySelector('#df-c0186b76-4261-4e46-a737-38b1c55ca7b7');\n",
              "        const dataTable =\n",
              "          await google.colab.kernel.invokeFunction('convertToInteractive',\n",
              "                                                    [key], {});\n",
              "        if (!dataTable) return;\n",
              "\n",
              "        const docLinkHtml = 'Like what you see? Visit the ' +\n",
              "          '<a target=\"_blank\" href=https://colab.research.google.com/notebooks/data_table.ipynb>data table notebook</a>'\n",
              "          + ' to learn more about interactive tables.';\n",
              "        element.innerHTML = '';\n",
              "        dataTable['output_type'] = 'display_data';\n",
              "        await google.colab.output.renderOutput(dataTable, element);\n",
              "        const docLink = document.createElement('div');\n",
              "        docLink.innerHTML = docLinkHtml;\n",
              "        element.appendChild(docLink);\n",
              "      }\n",
              "    </script>\n",
              "  </div>\n",
              "\n",
              "\n",
              "<div id=\"df-3982a3d4-4700-4493-9501-699bd9e37ea4\">\n",
              "  <button class=\"colab-df-quickchart\" onclick=\"quickchart('df-3982a3d4-4700-4493-9501-699bd9e37ea4')\"\n",
              "            title=\"Suggest charts\"\n",
              "            style=\"display:none;\">\n",
              "\n",
              "<svg xmlns=\"http://www.w3.org/2000/svg\" height=\"24px\"viewBox=\"0 0 24 24\"\n",
              "     width=\"24px\">\n",
              "    <g>\n",
              "        <path d=\"M19 3H5c-1.1 0-2 .9-2 2v14c0 1.1.9 2 2 2h14c1.1 0 2-.9 2-2V5c0-1.1-.9-2-2-2zM9 17H7v-7h2v7zm4 0h-2V7h2v10zm4 0h-2v-4h2v4z\"/>\n",
              "    </g>\n",
              "</svg>\n",
              "  </button>\n",
              "\n",
              "<style>\n",
              "  .colab-df-quickchart {\n",
              "      --bg-color: #E8F0FE;\n",
              "      --fill-color: #1967D2;\n",
              "      --hover-bg-color: #E2EBFA;\n",
              "      --hover-fill-color: #174EA6;\n",
              "      --disabled-fill-color: #AAA;\n",
              "      --disabled-bg-color: #DDD;\n",
              "  }\n",
              "\n",
              "  [theme=dark] .colab-df-quickchart {\n",
              "      --bg-color: #3B4455;\n",
              "      --fill-color: #D2E3FC;\n",
              "      --hover-bg-color: #434B5C;\n",
              "      --hover-fill-color: #FFFFFF;\n",
              "      --disabled-bg-color: #3B4455;\n",
              "      --disabled-fill-color: #666;\n",
              "  }\n",
              "\n",
              "  .colab-df-quickchart {\n",
              "    background-color: var(--bg-color);\n",
              "    border: none;\n",
              "    border-radius: 50%;\n",
              "    cursor: pointer;\n",
              "    display: none;\n",
              "    fill: var(--fill-color);\n",
              "    height: 32px;\n",
              "    padding: 0;\n",
              "    width: 32px;\n",
              "  }\n",
              "\n",
              "  .colab-df-quickchart:hover {\n",
              "    background-color: var(--hover-bg-color);\n",
              "    box-shadow: 0 1px 2px rgba(60, 64, 67, 0.3), 0 1px 3px 1px rgba(60, 64, 67, 0.15);\n",
              "    fill: var(--button-hover-fill-color);\n",
              "  }\n",
              "\n",
              "  .colab-df-quickchart-complete:disabled,\n",
              "  .colab-df-quickchart-complete:disabled:hover {\n",
              "    background-color: var(--disabled-bg-color);\n",
              "    fill: var(--disabled-fill-color);\n",
              "    box-shadow: none;\n",
              "  }\n",
              "\n",
              "  .colab-df-spinner {\n",
              "    border: 2px solid var(--fill-color);\n",
              "    border-color: transparent;\n",
              "    border-bottom-color: var(--fill-color);\n",
              "    animation:\n",
              "      spin 1s steps(1) infinite;\n",
              "  }\n",
              "\n",
              "  @keyframes spin {\n",
              "    0% {\n",
              "      border-color: transparent;\n",
              "      border-bottom-color: var(--fill-color);\n",
              "      border-left-color: var(--fill-color);\n",
              "    }\n",
              "    20% {\n",
              "      border-color: transparent;\n",
              "      border-left-color: var(--fill-color);\n",
              "      border-top-color: var(--fill-color);\n",
              "    }\n",
              "    30% {\n",
              "      border-color: transparent;\n",
              "      border-left-color: var(--fill-color);\n",
              "      border-top-color: var(--fill-color);\n",
              "      border-right-color: var(--fill-color);\n",
              "    }\n",
              "    40% {\n",
              "      border-color: transparent;\n",
              "      border-right-color: var(--fill-color);\n",
              "      border-top-color: var(--fill-color);\n",
              "    }\n",
              "    60% {\n",
              "      border-color: transparent;\n",
              "      border-right-color: var(--fill-color);\n",
              "    }\n",
              "    80% {\n",
              "      border-color: transparent;\n",
              "      border-right-color: var(--fill-color);\n",
              "      border-bottom-color: var(--fill-color);\n",
              "    }\n",
              "    90% {\n",
              "      border-color: transparent;\n",
              "      border-bottom-color: var(--fill-color);\n",
              "    }\n",
              "  }\n",
              "</style>\n",
              "\n",
              "  <script>\n",
              "    async function quickchart(key) {\n",
              "      const quickchartButtonEl =\n",
              "        document.querySelector('#' + key + ' button');\n",
              "      quickchartButtonEl.disabled = true;  // To prevent multiple clicks.\n",
              "      quickchartButtonEl.classList.add('colab-df-spinner');\n",
              "      try {\n",
              "        const charts = await google.colab.kernel.invokeFunction(\n",
              "            'suggestCharts', [key], {});\n",
              "      } catch (error) {\n",
              "        console.error('Error during call to suggestCharts:', error);\n",
              "      }\n",
              "      quickchartButtonEl.classList.remove('colab-df-spinner');\n",
              "      quickchartButtonEl.classList.add('colab-df-quickchart-complete');\n",
              "    }\n",
              "    (() => {\n",
              "      let quickchartButtonEl =\n",
              "        document.querySelector('#df-3982a3d4-4700-4493-9501-699bd9e37ea4 button');\n",
              "      quickchartButtonEl.style.display =\n",
              "        google.colab.kernel.accessAllowed ? 'block' : 'none';\n",
              "    })();\n",
              "  </script>\n",
              "</div>\n",
              "    </div>\n",
              "  </div>\n"
            ]
          },
          "metadata": {},
          "execution_count": 109
        }
      ]
    },
    {
      "cell_type": "code",
      "source": [
        "# df.to_csv('newframe1.csv', index=True)#1250 rows"
      ],
      "metadata": {
        "id": "MEBm3F7mNGQ5"
      },
      "execution_count": 4,
      "outputs": []
    },
    {
      "cell_type": "markdown",
      "source": [
        "# EDA"
      ],
      "metadata": {
        "id": "GbQs0OdeW5AR"
      }
    },
    {
      "cell_type": "code",
      "source": [
        "# Importing dataset\n",
        "jobs_df=pd.read_csv(\"/content/Linkedin_jobs1000.csv\")\n",
        "jobs_df=jobs_df.iloc[:,1:] # Filtering index column\n",
        "jobs_df.head()"
      ],
      "metadata": {
        "id": "gOBiEB1mNRoV",
        "colab": {
          "base_uri": "https://localhost:8080/",
          "height": 345
        },
        "outputId": "4dcd277e-e2d8-4b3f-c5fc-df5ccedb9260"
      },
      "execution_count": 7,
      "outputs": [
        {
          "output_type": "execute_result",
          "data": {
            "text/plain": [
              "                                             Company  \\\n",
              "0                                            Experfy   \n",
              "1                                         XenonStack   \n",
              "2                               Tamcherry - Zaportiv   \n",
              "3                            Trexquant Investment LP   \n",
              "4  Dubai Jobs, Gulf Jobs, Jobs in Dubai, Qatar, K...   \n",
              "\n",
              "                               Job-title  \\\n",
              "0                   AI/ML Data Scientist   \n",
              "1                            ML Engineer   \n",
              "2                        AI/ML Developer   \n",
              "3                 Data Scientist (INDIA)   \n",
              "4  MACHINE LEARNING AI PLATFORM ENGINEER   \n",
              "\n",
              "                                    Location   Seniority-Level  \\\n",
              "0                Bengaluru, Karnataka, India  Mid-Senior level   \n",
              "1  Sahibzada Ajit Singh Nagar, Punjab, India       Entry level   \n",
              "2          Bangalore Urban, Karnataka, India  Mid-Senior level   \n",
              "3                   Gurugram, Haryana, India         Associate   \n",
              "4          Bangalore Urban, Karnataka, India       Entry level   \n",
              "\n",
              "  Employment-Type                                      Job-Function  \\\n",
              "0       Full-time            Engineering and Information Technology   \n",
              "1       Full-time  Information Technology, Analyst, and Engineering   \n",
              "2       Full-time            Engineering and Information Technology   \n",
              "3       Full-time                                          Research   \n",
              "4       Full-time            Engineering and Information Technology   \n",
              "\n",
              "                                            Industry  \n",
              "0               Technology, Information and Internet  \n",
              "1  IT Services and IT Consulting, Software Develo...  \n",
              "2                  Information Technology & Services  \n",
              "3               Technology, Information and Internet  \n",
              "4                            Staffing and Recruiting  "
            ],
            "text/html": [
              "\n",
              "  <div id=\"df-c8617807-48f7-4cb9-83e0-e3ed68c6ca65\" class=\"colab-df-container\">\n",
              "    <div>\n",
              "<style scoped>\n",
              "    .dataframe tbody tr th:only-of-type {\n",
              "        vertical-align: middle;\n",
              "    }\n",
              "\n",
              "    .dataframe tbody tr th {\n",
              "        vertical-align: top;\n",
              "    }\n",
              "\n",
              "    .dataframe thead th {\n",
              "        text-align: right;\n",
              "    }\n",
              "</style>\n",
              "<table border=\"1\" class=\"dataframe\">\n",
              "  <thead>\n",
              "    <tr style=\"text-align: right;\">\n",
              "      <th></th>\n",
              "      <th>Company</th>\n",
              "      <th>Job-title</th>\n",
              "      <th>Location</th>\n",
              "      <th>Seniority-Level</th>\n",
              "      <th>Employment-Type</th>\n",
              "      <th>Job-Function</th>\n",
              "      <th>Industry</th>\n",
              "    </tr>\n",
              "  </thead>\n",
              "  <tbody>\n",
              "    <tr>\n",
              "      <th>0</th>\n",
              "      <td>Experfy</td>\n",
              "      <td>AI/ML Data Scientist</td>\n",
              "      <td>Bengaluru, Karnataka, India</td>\n",
              "      <td>Mid-Senior level</td>\n",
              "      <td>Full-time</td>\n",
              "      <td>Engineering and Information Technology</td>\n",
              "      <td>Technology, Information and Internet</td>\n",
              "    </tr>\n",
              "    <tr>\n",
              "      <th>1</th>\n",
              "      <td>XenonStack</td>\n",
              "      <td>ML Engineer</td>\n",
              "      <td>Sahibzada Ajit Singh Nagar, Punjab, India</td>\n",
              "      <td>Entry level</td>\n",
              "      <td>Full-time</td>\n",
              "      <td>Information Technology, Analyst, and Engineering</td>\n",
              "      <td>IT Services and IT Consulting, Software Develo...</td>\n",
              "    </tr>\n",
              "    <tr>\n",
              "      <th>2</th>\n",
              "      <td>Tamcherry - Zaportiv</td>\n",
              "      <td>AI/ML Developer</td>\n",
              "      <td>Bangalore Urban, Karnataka, India</td>\n",
              "      <td>Mid-Senior level</td>\n",
              "      <td>Full-time</td>\n",
              "      <td>Engineering and Information Technology</td>\n",
              "      <td>Information Technology &amp; Services</td>\n",
              "    </tr>\n",
              "    <tr>\n",
              "      <th>3</th>\n",
              "      <td>Trexquant Investment LP</td>\n",
              "      <td>Data Scientist (INDIA)</td>\n",
              "      <td>Gurugram, Haryana, India</td>\n",
              "      <td>Associate</td>\n",
              "      <td>Full-time</td>\n",
              "      <td>Research</td>\n",
              "      <td>Technology, Information and Internet</td>\n",
              "    </tr>\n",
              "    <tr>\n",
              "      <th>4</th>\n",
              "      <td>Dubai Jobs, Gulf Jobs, Jobs in Dubai, Qatar, K...</td>\n",
              "      <td>MACHINE LEARNING AI PLATFORM ENGINEER</td>\n",
              "      <td>Bangalore Urban, Karnataka, India</td>\n",
              "      <td>Entry level</td>\n",
              "      <td>Full-time</td>\n",
              "      <td>Engineering and Information Technology</td>\n",
              "      <td>Staffing and Recruiting</td>\n",
              "    </tr>\n",
              "  </tbody>\n",
              "</table>\n",
              "</div>\n",
              "    <div class=\"colab-df-buttons\">\n",
              "\n",
              "  <div class=\"colab-df-container\">\n",
              "    <button class=\"colab-df-convert\" onclick=\"convertToInteractive('df-c8617807-48f7-4cb9-83e0-e3ed68c6ca65')\"\n",
              "            title=\"Convert this dataframe to an interactive table.\"\n",
              "            style=\"display:none;\">\n",
              "\n",
              "  <svg xmlns=\"http://www.w3.org/2000/svg\" height=\"24px\" viewBox=\"0 -960 960 960\">\n",
              "    <path d=\"M120-120v-720h720v720H120Zm60-500h600v-160H180v160Zm220 220h160v-160H400v160Zm0 220h160v-160H400v160ZM180-400h160v-160H180v160Zm440 0h160v-160H620v160ZM180-180h160v-160H180v160Zm440 0h160v-160H620v160Z\"/>\n",
              "  </svg>\n",
              "    </button>\n",
              "\n",
              "  <style>\n",
              "    .colab-df-container {\n",
              "      display:flex;\n",
              "      gap: 12px;\n",
              "    }\n",
              "\n",
              "    .colab-df-convert {\n",
              "      background-color: #E8F0FE;\n",
              "      border: none;\n",
              "      border-radius: 50%;\n",
              "      cursor: pointer;\n",
              "      display: none;\n",
              "      fill: #1967D2;\n",
              "      height: 32px;\n",
              "      padding: 0 0 0 0;\n",
              "      width: 32px;\n",
              "    }\n",
              "\n",
              "    .colab-df-convert:hover {\n",
              "      background-color: #E2EBFA;\n",
              "      box-shadow: 0px 1px 2px rgba(60, 64, 67, 0.3), 0px 1px 3px 1px rgba(60, 64, 67, 0.15);\n",
              "      fill: #174EA6;\n",
              "    }\n",
              "\n",
              "    .colab-df-buttons div {\n",
              "      margin-bottom: 4px;\n",
              "    }\n",
              "\n",
              "    [theme=dark] .colab-df-convert {\n",
              "      background-color: #3B4455;\n",
              "      fill: #D2E3FC;\n",
              "    }\n",
              "\n",
              "    [theme=dark] .colab-df-convert:hover {\n",
              "      background-color: #434B5C;\n",
              "      box-shadow: 0px 1px 3px 1px rgba(0, 0, 0, 0.15);\n",
              "      filter: drop-shadow(0px 1px 2px rgba(0, 0, 0, 0.3));\n",
              "      fill: #FFFFFF;\n",
              "    }\n",
              "  </style>\n",
              "\n",
              "    <script>\n",
              "      const buttonEl =\n",
              "        document.querySelector('#df-c8617807-48f7-4cb9-83e0-e3ed68c6ca65 button.colab-df-convert');\n",
              "      buttonEl.style.display =\n",
              "        google.colab.kernel.accessAllowed ? 'block' : 'none';\n",
              "\n",
              "      async function convertToInteractive(key) {\n",
              "        const element = document.querySelector('#df-c8617807-48f7-4cb9-83e0-e3ed68c6ca65');\n",
              "        const dataTable =\n",
              "          await google.colab.kernel.invokeFunction('convertToInteractive',\n",
              "                                                    [key], {});\n",
              "        if (!dataTable) return;\n",
              "\n",
              "        const docLinkHtml = 'Like what you see? Visit the ' +\n",
              "          '<a target=\"_blank\" href=https://colab.research.google.com/notebooks/data_table.ipynb>data table notebook</a>'\n",
              "          + ' to learn more about interactive tables.';\n",
              "        element.innerHTML = '';\n",
              "        dataTable['output_type'] = 'display_data';\n",
              "        await google.colab.output.renderOutput(dataTable, element);\n",
              "        const docLink = document.createElement('div');\n",
              "        docLink.innerHTML = docLinkHtml;\n",
              "        element.appendChild(docLink);\n",
              "      }\n",
              "    </script>\n",
              "  </div>\n",
              "\n",
              "\n",
              "<div id=\"df-de8aa7f2-f721-4469-a5c0-b05126e2a1c6\">\n",
              "  <button class=\"colab-df-quickchart\" onclick=\"quickchart('df-de8aa7f2-f721-4469-a5c0-b05126e2a1c6')\"\n",
              "            title=\"Suggest charts\"\n",
              "            style=\"display:none;\">\n",
              "\n",
              "<svg xmlns=\"http://www.w3.org/2000/svg\" height=\"24px\"viewBox=\"0 0 24 24\"\n",
              "     width=\"24px\">\n",
              "    <g>\n",
              "        <path d=\"M19 3H5c-1.1 0-2 .9-2 2v14c0 1.1.9 2 2 2h14c1.1 0 2-.9 2-2V5c0-1.1-.9-2-2-2zM9 17H7v-7h2v7zm4 0h-2V7h2v10zm4 0h-2v-4h2v4z\"/>\n",
              "    </g>\n",
              "</svg>\n",
              "  </button>\n",
              "\n",
              "<style>\n",
              "  .colab-df-quickchart {\n",
              "      --bg-color: #E8F0FE;\n",
              "      --fill-color: #1967D2;\n",
              "      --hover-bg-color: #E2EBFA;\n",
              "      --hover-fill-color: #174EA6;\n",
              "      --disabled-fill-color: #AAA;\n",
              "      --disabled-bg-color: #DDD;\n",
              "  }\n",
              "\n",
              "  [theme=dark] .colab-df-quickchart {\n",
              "      --bg-color: #3B4455;\n",
              "      --fill-color: #D2E3FC;\n",
              "      --hover-bg-color: #434B5C;\n",
              "      --hover-fill-color: #FFFFFF;\n",
              "      --disabled-bg-color: #3B4455;\n",
              "      --disabled-fill-color: #666;\n",
              "  }\n",
              "\n",
              "  .colab-df-quickchart {\n",
              "    background-color: var(--bg-color);\n",
              "    border: none;\n",
              "    border-radius: 50%;\n",
              "    cursor: pointer;\n",
              "    display: none;\n",
              "    fill: var(--fill-color);\n",
              "    height: 32px;\n",
              "    padding: 0;\n",
              "    width: 32px;\n",
              "  }\n",
              "\n",
              "  .colab-df-quickchart:hover {\n",
              "    background-color: var(--hover-bg-color);\n",
              "    box-shadow: 0 1px 2px rgba(60, 64, 67, 0.3), 0 1px 3px 1px rgba(60, 64, 67, 0.15);\n",
              "    fill: var(--button-hover-fill-color);\n",
              "  }\n",
              "\n",
              "  .colab-df-quickchart-complete:disabled,\n",
              "  .colab-df-quickchart-complete:disabled:hover {\n",
              "    background-color: var(--disabled-bg-color);\n",
              "    fill: var(--disabled-fill-color);\n",
              "    box-shadow: none;\n",
              "  }\n",
              "\n",
              "  .colab-df-spinner {\n",
              "    border: 2px solid var(--fill-color);\n",
              "    border-color: transparent;\n",
              "    border-bottom-color: var(--fill-color);\n",
              "    animation:\n",
              "      spin 1s steps(1) infinite;\n",
              "  }\n",
              "\n",
              "  @keyframes spin {\n",
              "    0% {\n",
              "      border-color: transparent;\n",
              "      border-bottom-color: var(--fill-color);\n",
              "      border-left-color: var(--fill-color);\n",
              "    }\n",
              "    20% {\n",
              "      border-color: transparent;\n",
              "      border-left-color: var(--fill-color);\n",
              "      border-top-color: var(--fill-color);\n",
              "    }\n",
              "    30% {\n",
              "      border-color: transparent;\n",
              "      border-left-color: var(--fill-color);\n",
              "      border-top-color: var(--fill-color);\n",
              "      border-right-color: var(--fill-color);\n",
              "    }\n",
              "    40% {\n",
              "      border-color: transparent;\n",
              "      border-right-color: var(--fill-color);\n",
              "      border-top-color: var(--fill-color);\n",
              "    }\n",
              "    60% {\n",
              "      border-color: transparent;\n",
              "      border-right-color: var(--fill-color);\n",
              "    }\n",
              "    80% {\n",
              "      border-color: transparent;\n",
              "      border-right-color: var(--fill-color);\n",
              "      border-bottom-color: var(--fill-color);\n",
              "    }\n",
              "    90% {\n",
              "      border-color: transparent;\n",
              "      border-bottom-color: var(--fill-color);\n",
              "    }\n",
              "  }\n",
              "</style>\n",
              "\n",
              "  <script>\n",
              "    async function quickchart(key) {\n",
              "      const quickchartButtonEl =\n",
              "        document.querySelector('#' + key + ' button');\n",
              "      quickchartButtonEl.disabled = true;  // To prevent multiple clicks.\n",
              "      quickchartButtonEl.classList.add('colab-df-spinner');\n",
              "      try {\n",
              "        const charts = await google.colab.kernel.invokeFunction(\n",
              "            'suggestCharts', [key], {});\n",
              "      } catch (error) {\n",
              "        console.error('Error during call to suggestCharts:', error);\n",
              "      }\n",
              "      quickchartButtonEl.classList.remove('colab-df-spinner');\n",
              "      quickchartButtonEl.classList.add('colab-df-quickchart-complete');\n",
              "    }\n",
              "    (() => {\n",
              "      let quickchartButtonEl =\n",
              "        document.querySelector('#df-de8aa7f2-f721-4469-a5c0-b05126e2a1c6 button');\n",
              "      quickchartButtonEl.style.display =\n",
              "        google.colab.kernel.accessAllowed ? 'block' : 'none';\n",
              "    })();\n",
              "  </script>\n",
              "</div>\n",
              "    </div>\n",
              "  </div>\n"
            ]
          },
          "metadata": {},
          "execution_count": 7
        }
      ]
    },
    {
      "cell_type": "code",
      "source": [
        "print(\"Shape of dataset:\", jobs_df.shape)"
      ],
      "metadata": {
        "colab": {
          "base_uri": "https://localhost:8080/"
        },
        "id": "ah21sWdXZSe1",
        "outputId": "8bf7a313-ea4f-4abb-a7c8-d9cfc5831408"
      },
      "execution_count": 8,
      "outputs": [
        {
          "output_type": "stream",
          "name": "stdout",
          "text": [
            "Shape of dataset: (1250, 7)\n"
          ]
        }
      ]
    },
    {
      "cell_type": "markdown",
      "source": [
        "There are 1250 rows and 7 columns in the dataset"
      ],
      "metadata": {
        "id": "pu5ar0H9ZcRU"
      }
    },
    {
      "cell_type": "code",
      "source": [
        "print(\"Column names:\\n\", jobs_df.columns)"
      ],
      "metadata": {
        "colab": {
          "base_uri": "https://localhost:8080/"
        },
        "id": "pmi3cnLMZjgX",
        "outputId": "32a54762-d956-4c8c-922d-18389e328fb9"
      },
      "execution_count": 9,
      "outputs": [
        {
          "output_type": "stream",
          "name": "stdout",
          "text": [
            "Column names:\n",
            " Index(['Company', 'Job-title', 'Location', 'Seniority-Level',\n",
            "       'Employment-Type', 'Job-Function', 'Industry'],\n",
            "      dtype='object')\n"
          ]
        }
      ]
    },
    {
      "cell_type": "code",
      "source": [
        "print(\"Info:\")\n",
        "print(jobs_df.info())"
      ],
      "metadata": {
        "colab": {
          "base_uri": "https://localhost:8080/"
        },
        "id": "NMt7yXFhZtLp",
        "outputId": "bcf8f230-d239-417b-8540-7548d35b53fe"
      },
      "execution_count": 10,
      "outputs": [
        {
          "output_type": "stream",
          "name": "stdout",
          "text": [
            "Info:\n",
            "<class 'pandas.core.frame.DataFrame'>\n",
            "RangeIndex: 1250 entries, 0 to 1249\n",
            "Data columns (total 7 columns):\n",
            " #   Column           Non-Null Count  Dtype \n",
            "---  ------           --------------  ----- \n",
            " 0   Company          1250 non-null   object\n",
            " 1   Job-title        1250 non-null   object\n",
            " 2   Location         1250 non-null   object\n",
            " 3   Seniority-Level  1250 non-null   object\n",
            " 4   Employment-Type  1220 non-null   object\n",
            " 5   Job-Function     1220 non-null   object\n",
            " 6   Industry         1220 non-null   object\n",
            "dtypes: object(7)\n",
            "memory usage: 68.5+ KB\n",
            "None\n"
          ]
        }
      ]
    },
    {
      "cell_type": "markdown",
      "source": [
        "There are null values in the dataset in columns- 4,5 and 6."
      ],
      "metadata": {
        "id": "m2_uhY-NaEVq"
      }
    },
    {
      "cell_type": "code",
      "source": [
        "print (\"Number of unique companies :\", jobs_df['Company'].nunique())"
      ],
      "metadata": {
        "colab": {
          "base_uri": "https://localhost:8080/"
        },
        "id": "jjq4EazZYURT",
        "outputId": "c590ee06-43fe-40bd-f42c-e62b0d8ab766"
      },
      "execution_count": 12,
      "outputs": [
        {
          "output_type": "stream",
          "name": "stdout",
          "text": [
            "Number of unique companies : 130\n"
          ]
        }
      ]
    },
    {
      "cell_type": "code",
      "source": [
        "print (\"Types of Employment: \", jobs_df['Employment-Type'].dropna().unique())"
      ],
      "metadata": {
        "colab": {
          "base_uri": "https://localhost:8080/"
        },
        "id": "Xcs4UGo1Y8IP",
        "outputId": "59e9dfe7-8b4f-49f6-93c7-6d83a19a7e20"
      },
      "execution_count": 11,
      "outputs": [
        {
          "output_type": "stream",
          "name": "stdout",
          "text": [
            "Types of Employment:  ['Full-time' 'Contract']\n"
          ]
        }
      ]
    },
    {
      "cell_type": "code",
      "source": [
        "print (\"Levels of Seniority in available jobs\\n\", jobs_df['Seniority-Level'].unique())"
      ],
      "metadata": {
        "colab": {
          "base_uri": "https://localhost:8080/"
        },
        "id": "f6YNJmR5adlc",
        "outputId": "134a1c6f-44b4-4a10-98c0-bb3384884186"
      },
      "execution_count": 13,
      "outputs": [
        {
          "output_type": "stream",
          "name": "stdout",
          "text": [
            "Levels of Seniority in available jobs\n",
            " ['Mid-Senior level' 'Entry level' 'Associate' 'Not Applicable'\n",
            " 'Internship' 'Full-time' 'Director' 'Executive']\n"
          ]
        }
      ]
    },
    {
      "cell_type": "code",
      "source": [
        "print(\"Types of industries:\\n\", jobs_df['Industry'].nunique())"
      ],
      "metadata": {
        "colab": {
          "base_uri": "https://localhost:8080/"
        },
        "id": "fGs0TYiNawb9",
        "outputId": "b80120f4-c99b-453e-eb15-bdb2fed4bf67"
      },
      "execution_count": 14,
      "outputs": [
        {
          "output_type": "stream",
          "name": "stdout",
          "text": [
            "Types of industries:\n",
            " 55\n"
          ]
        }
      ]
    },
    {
      "cell_type": "code",
      "source": [
        "print (\"Job Function:\\n\", jobs_df['Job-Function'].unique())"
      ],
      "metadata": {
        "colab": {
          "base_uri": "https://localhost:8080/"
        },
        "id": "kZfAf1X6bAmP",
        "outputId": "e1b9f751-95ca-4434-c986-65bb1de9868d"
      },
      "execution_count": 15,
      "outputs": [
        {
          "output_type": "stream",
          "name": "stdout",
          "text": [
            "Job Function:\n",
            " ['Engineering and Information Technology'\n",
            " 'Information Technology, Analyst, and Engineering' 'Research' 'Analyst'\n",
            " 'Information Technology' 'Other'\n",
            " 'Research, Analyst, and Information Technology' 'Engineering'\n",
            " 'Analyst and Research' 'Engineering, Information Technology, and Analyst'\n",
            " nan 'General Business, Strategy/Planning, and Consulting'\n",
            " 'Information Technology and Engineering' 'Sales'\n",
            " 'Project Management, Other, and Information Technology' 'Production'\n",
            " 'Science, Research, and Other' 'Consulting and Information Technology'\n",
            " 'Design and Information Technology' 'Finance' 'Education']\n"
          ]
        }
      ]
    },
    {
      "cell_type": "code",
      "source": [
        "# Renaming job titles in title case\n",
        "jobs_df['Job-title'] = jobs_df['Job-title'].apply(lambda x: x.title())"
      ],
      "metadata": {
        "id": "dAwTRp3pbl1v"
      },
      "execution_count": 16,
      "outputs": []
    },
    {
      "cell_type": "code",
      "source": [
        "jobs_df['City']=jobs_df['Location'].apply(lambda x: x.split(\",\")[0])"
      ],
      "metadata": {
        "id": "zQacuni4d524"
      },
      "execution_count": 17,
      "outputs": []
    },
    {
      "cell_type": "code",
      "source": [
        "jobs_df['City'].unique()"
      ],
      "metadata": {
        "colab": {
          "base_uri": "https://localhost:8080/"
        },
        "id": "r-nyKOJDeDve",
        "outputId": "86922240-f6e2-452f-d3ef-7cdaf40d7bf9"
      },
      "execution_count": 18,
      "outputs": [
        {
          "output_type": "execute_result",
          "data": {
            "text/plain": [
              "array(['Bengaluru', 'Sahibzada Ajit Singh Nagar', 'Bangalore Urban',\n",
              "       'Gurugram', 'Pune', 'Hyderabad', 'Gurgaon',\n",
              "       'Mumbai Metropolitan Region', 'Chennai', 'Mumbai', 'Trivandrum',\n",
              "       'Noida', 'Pune/Pimpri-Chinchwad Area', 'Delhi', 'Maharashtra',\n",
              "       'Bengaluru East', 'Greater Bengaluru Area', 'Kolkata',\n",
              "       'Peerancheru', 'Kanayannur', 'India', 'Jaipur', 'Kochi', 'Panaji',\n",
              "       'Greater Gwalior Area', 'Lucknow', 'Ahmedabad', 'Gwalior', 'Dadri',\n",
              "       'Bhubaneswar', 'Greater Kolkata Area', 'Bengaluru North'],\n",
              "      dtype=object)"
            ]
          },
          "metadata": {},
          "execution_count": 18
        }
      ]
    },
    {
      "cell_type": "code",
      "source": [
        "# jobs_df['City'].value_counts()"
      ],
      "metadata": {
        "id": "PxPE3MmuhFQa"
      },
      "execution_count": null,
      "outputs": []
    },
    {
      "cell_type": "code",
      "source": [
        "#Renaming cities\n",
        "def rename(x):\n",
        "  if x in (\"Bengaluru\",\"Bangalore Urban\",\"Bengaluru East\", \"Greater Bengaluru Area\", \"Bengaluru North\"):\n",
        "    x=\"Bengaluru\"\n",
        "  elif x in (\"Gurugram\", \"Gurgaon\",):\n",
        "    x=\"Gurugram\"\n",
        "  elif x in (\"Pune\", \"Pune/Pimpri-Chinchwad Area\"):\n",
        "    x=\"Pune\"\n",
        "  elif x in (\"Mumbai Metropolitan Region\", \"Mumbai\"):\n",
        "    x=\"Mumbai\"\n",
        "  elif x in (\"Kolkata\",\"Greater Kolkata Area\"):\n",
        "    x=\"Kolkata\"\n",
        "  elif x in (\"Greater Gwalior Area\",\"Gwalior\"):\n",
        "    x=\"Gwalior\"\n",
        "  elif x in (\"India\", \"Maharashtra\"):\n",
        "    x=\"Anywhere\"\n",
        "  return x"
      ],
      "metadata": {
        "id": "Qb9vpydPem65"
      },
      "execution_count": 19,
      "outputs": []
    },
    {
      "cell_type": "code",
      "source": [
        "jobs_df[\"City\"]=jobs_df[\"City\"].apply(rename)"
      ],
      "metadata": {
        "id": "oVLADuW1iV0r"
      },
      "execution_count": 20,
      "outputs": []
    },
    {
      "cell_type": "code",
      "source": [
        "jobs_df[\"City\"].unique()"
      ],
      "metadata": {
        "colab": {
          "base_uri": "https://localhost:8080/"
        },
        "id": "HSnG4RdBiXYS",
        "outputId": "734217d6-da51-46b4-8193-77de4d692e58"
      },
      "execution_count": 21,
      "outputs": [
        {
          "output_type": "execute_result",
          "data": {
            "text/plain": [
              "array(['Bengaluru', 'Sahibzada Ajit Singh Nagar', 'Gurugram', 'Pune',\n",
              "       'Hyderabad', 'Mumbai', 'Chennai', 'Trivandrum', 'Noida', 'Delhi',\n",
              "       'Anywhere', 'Kolkata', 'Peerancheru', 'Kanayannur', 'Jaipur',\n",
              "       'Kochi', 'Panaji', 'Gwalior', 'Lucknow', 'Ahmedabad', 'Dadri',\n",
              "       'Bhubaneswar'], dtype=object)"
            ]
          },
          "metadata": {},
          "execution_count": 21
        }
      ]
    },
    {
      "cell_type": "markdown",
      "source": [
        "# Top locations for Data Scientist Jobs"
      ],
      "metadata": {
        "id": "m5Fkw77OjNxS"
      }
    },
    {
      "cell_type": "code",
      "source": [
        "data=jobs_df[jobs_df[\"City\"]!=\"Anywhere\"][\"City\"].value_counts().reset_index()\n",
        "data.columns=['City','Jobs']\n"
      ],
      "metadata": {
        "id": "FZ-7aw51ijXL"
      },
      "execution_count": 22,
      "outputs": []
    },
    {
      "cell_type": "code",
      "source": [
        "# Create a bar plot using Seaborn\n",
        "plt.figure(figsize=(8, 6))\n",
        "sns.barplot(y='City', x='Jobs', data=data, palette='colorblind', orient='h')\n",
        "\n",
        "# Adding labels and title\n",
        "plt.ylabel('City')\n",
        "plt.xlabel('No of Job Listings')\n",
        "plt.title('Cities by number of Data Science jobs')\n",
        "\n",
        "# Show plot\n",
        "plt.show()"
      ],
      "metadata": {
        "colab": {
          "base_uri": "https://localhost:8080/",
          "height": 564
        },
        "id": "oFa84wjdjB71",
        "outputId": "07344123-b763-4b0c-b6e2-010e55634912"
      },
      "execution_count": 27,
      "outputs": [
        {
          "output_type": "display_data",
          "data": {
            "text/plain": [
              "<Figure size 800x600 with 1 Axes>"
            ],
            "image/png": "[encoded data removed]"
          },
          "metadata": {}
        }
      ]
    },
    {
      "cell_type": "code",
      "source": [
        "data[\"% share\"]=round(100*data[\"Jobs\"]/1250, 2)"
      ],
      "metadata": {
        "id": "nhKG66mulsNG"
      },
      "execution_count": 24,
      "outputs": []
    },
    {
      "cell_type": "code",
      "source": [
        "data.head()"
      ],
      "metadata": {
        "colab": {
          "base_uri": "https://localhost:8080/",
          "height": 206
        },
        "id": "dPYRHbmHni_Y",
        "outputId": "b9bf4830-50ee-4478-8eb7-b889d7a3f2fa"
      },
      "execution_count": 25,
      "outputs": [
        {
          "output_type": "execute_result",
          "data": {
            "text/plain": [
              "        City  Jobs  % share\n",
              "0  Bengaluru   544    43.52\n",
              "1       Pune   128    10.24\n",
              "2   Gurugram   107     8.56\n",
              "3     Mumbai   101     8.08\n",
              "4  Hyderabad    67     5.36"
            ],
            "text/html": [
              "\n",
              "  <div id=\"df-cad8ffcf-47e3-4e37-9082-2564b249d507\" class=\"colab-df-container\">\n",
              "    <div>\n",
              "<style scoped>\n",
              "    .dataframe tbody tr th:only-of-type {\n",
              "        vertical-align: middle;\n",
              "    }\n",
              "\n",
              "    .dataframe tbody tr th {\n",
              "        vertical-align: top;\n",
              "    }\n",
              "\n",
              "    .dataframe thead th {\n",
              "        text-align: right;\n",
              "    }\n",
              "</style>\n",
              "<table border=\"1\" class=\"dataframe\">\n",
              "  <thead>\n",
              "    <tr style=\"text-align: right;\">\n",
              "      <th></th>\n",
              "      <th>City</th>\n",
              "      <th>Jobs</th>\n",
              "      <th>% share</th>\n",
              "    </tr>\n",
              "  </thead>\n",
              "  <tbody>\n",
              "    <tr>\n",
              "      <th>0</th>\n",
              "      <td>Bengaluru</td>\n",
              "      <td>544</td>\n",
              "      <td>43.52</td>\n",
              "    </tr>\n",
              "    <tr>\n",
              "      <th>1</th>\n",
              "      <td>Pune</td>\n",
              "      <td>128</td>\n",
              "      <td>10.24</td>\n",
              "    </tr>\n",
              "    <tr>\n",
              "      <th>2</th>\n",
              "      <td>Gurugram</td>\n",
              "      <td>107</td>\n",
              "      <td>8.56</td>\n",
              "    </tr>\n",
              "    <tr>\n",
              "      <th>3</th>\n",
              "      <td>Mumbai</td>\n",
              "      <td>101</td>\n",
              "      <td>8.08</td>\n",
              "    </tr>\n",
              "    <tr>\n",
              "      <th>4</th>\n",
              "      <td>Hyderabad</td>\n",
              "      <td>67</td>\n",
              "      <td>5.36</td>\n",
              "    </tr>\n",
              "  </tbody>\n",
              "</table>\n",
              "</div>\n",
              "    <div class=\"colab-df-buttons\">\n",
              "\n",
              "  <div class=\"colab-df-container\">\n",
              "    <button class=\"colab-df-convert\" onclick=\"convertToInteractive('df-cad8ffcf-47e3-4e37-9082-2564b249d507')\"\n",
              "            title=\"Convert this dataframe to an interactive table.\"\n",
              "            style=\"display:none;\">\n",
              "\n",
              "  <svg xmlns=\"http://www.w3.org/2000/svg\" height=\"24px\" viewBox=\"0 -960 960 960\">\n",
              "    <path d=\"M120-120v-720h720v720H120Zm60-500h600v-160H180v160Zm220 220h160v-160H400v160Zm0 220h160v-160H400v160ZM180-400h160v-160H180v160Zm440 0h160v-160H620v160ZM180-180h160v-160H180v160Zm440 0h160v-160H620v160Z\"/>\n",
              "  </svg>\n",
              "    </button>\n",
              "\n",
              "  <style>\n",
              "    .colab-df-container {\n",
              "      display:flex;\n",
              "      gap: 12px;\n",
              "    }\n",
              "\n",
              "    .colab-df-convert {\n",
              "      background-color: #E8F0FE;\n",
              "      border: none;\n",
              "      border-radius: 50%;\n",
              "      cursor: pointer;\n",
              "      display: none;\n",
              "      fill: #1967D2;\n",
              "      height: 32px;\n",
              "      padding: 0 0 0 0;\n",
              "      width: 32px;\n",
              "    }\n",
              "\n",
              "    .colab-df-convert:hover {\n",
              "      background-color: #E2EBFA;\n",
              "      box-shadow: 0px 1px 2px rgba(60, 64, 67, 0.3), 0px 1px 3px 1px rgba(60, 64, 67, 0.15);\n",
              "      fill: #174EA6;\n",
              "    }\n",
              "\n",
              "    .colab-df-buttons div {\n",
              "      margin-bottom: 4px;\n",
              "    }\n",
              "\n",
              "    [theme=dark] .colab-df-convert {\n",
              "      background-color: #3B4455;\n",
              "      fill: #D2E3FC;\n",
              "    }\n",
              "\n",
              "    [theme=dark] .colab-df-convert:hover {\n",
              "      background-color: #434B5C;\n",
              "      box-shadow: 0px 1px 3px 1px rgba(0, 0, 0, 0.15);\n",
              "      filter: drop-shadow(0px 1px 2px rgba(0, 0, 0, 0.3));\n",
              "      fill: #FFFFFF;\n",
              "    }\n",
              "  </style>\n",
              "\n",
              "    <script>\n",
              "      const buttonEl =\n",
              "        document.querySelector('#df-cad8ffcf-47e3-4e37-9082-2564b249d507 button.colab-df-convert');\n",
              "      buttonEl.style.display =\n",
              "        google.colab.kernel.accessAllowed ? 'block' : 'none';\n",
              "\n",
              "      async function convertToInteractive(key) {\n",
              "        const element = document.querySelector('#df-cad8ffcf-47e3-4e37-9082-2564b249d507');\n",
              "        const dataTable =\n",
              "          await google.colab.kernel.invokeFunction('convertToInteractive',\n",
              "                                                    [key], {});\n",
              "        if (!dataTable) return;\n",
              "\n",
              "        const docLinkHtml = 'Like what you see? Visit the ' +\n",
              "          '<a target=\"_blank\" href=https://colab.research.google.com/notebooks/data_table.ipynb>data table notebook</a>'\n",
              "          + ' to learn more about interactive tables.';\n",
              "        element.innerHTML = '';\n",
              "        dataTable['output_type'] = 'display_data';\n",
              "        await google.colab.output.renderOutput(dataTable, element);\n",
              "        const docLink = document.createElement('div');\n",
              "        docLink.innerHTML = docLinkHtml;\n",
              "        element.appendChild(docLink);\n",
              "      }\n",
              "    </script>\n",
              "  </div>\n",
              "\n",
              "\n",
              "<div id=\"df-13d003c3-309f-4a97-847d-d49d0316174a\">\n",
              "  <button class=\"colab-df-quickchart\" onclick=\"quickchart('df-13d003c3-309f-4a97-847d-d49d0316174a')\"\n",
              "            title=\"Suggest charts\"\n",
              "            style=\"display:none;\">\n",
              "\n",
              "<svg xmlns=\"http://www.w3.org/2000/svg\" height=\"24px\"viewBox=\"0 0 24 24\"\n",
              "     width=\"24px\">\n",
              "    <g>\n",
              "        <path d=\"M19 3H5c-1.1 0-2 .9-2 2v14c0 1.1.9 2 2 2h14c1.1 0 2-.9 2-2V5c0-1.1-.9-2-2-2zM9 17H7v-7h2v7zm4 0h-2V7h2v10zm4 0h-2v-4h2v4z\"/>\n",
              "    </g>\n",
              "</svg>\n",
              "  </button>\n",
              "\n",
              "<style>\n",
              "  .colab-df-quickchart {\n",
              "      --bg-color: #E8F0FE;\n",
              "      --fill-color: #1967D2;\n",
              "      --hover-bg-color: #E2EBFA;\n",
              "      --hover-fill-color: #174EA6;\n",
              "      --disabled-fill-color: #AAA;\n",
              "      --disabled-bg-color: #DDD;\n",
              "  }\n",
              "\n",
              "  [theme=dark] .colab-df-quickchart {\n",
              "      --bg-color: #3B4455;\n",
              "      --fill-color: #D2E3FC;\n",
              "      --hover-bg-color: #434B5C;\n",
              "      --hover-fill-color: #FFFFFF;\n",
              "      --disabled-bg-color: #3B4455;\n",
              "      --disabled-fill-color: #666;\n",
              "  }\n",
              "\n",
              "  .colab-df-quickchart {\n",
              "    background-color: var(--bg-color);\n",
              "    border: none;\n",
              "    border-radius: 50%;\n",
              "    cursor: pointer;\n",
              "    display: none;\n",
              "    fill: var(--fill-color);\n",
              "    height: 32px;\n",
              "    padding: 0;\n",
              "    width: 32px;\n",
              "  }\n",
              "\n",
              "  .colab-df-quickchart:hover {\n",
              "    background-color: var(--hover-bg-color);\n",
              "    box-shadow: 0 1px 2px rgba(60, 64, 67, 0.3), 0 1px 3px 1px rgba(60, 64, 67, 0.15);\n",
              "    fill: var(--button-hover-fill-color);\n",
              "  }\n",
              "\n",
              "  .colab-df-quickchart-complete:disabled,\n",
              "  .colab-df-quickchart-complete:disabled:hover {\n",
              "    background-color: var(--disabled-bg-color);\n",
              "    fill: var(--disabled-fill-color);\n",
              "    box-shadow: none;\n",
              "  }\n",
              "\n",
              "  .colab-df-spinner {\n",
              "    border: 2px solid var(--fill-color);\n",
              "    border-color: transparent;\n",
              "    border-bottom-color: var(--fill-color);\n",
              "    animation:\n",
              "      spin 1s steps(1) infinite;\n",
              "  }\n",
              "\n",
              "  @keyframes spin {\n",
              "    0% {\n",
              "      border-color: transparent;\n",
              "      border-bottom-color: var(--fill-color);\n",
              "      border-left-color: var(--fill-color);\n",
              "    }\n",
              "    20% {\n",
              "      border-color: transparent;\n",
              "      border-left-color: var(--fill-color);\n",
              "      border-top-color: var(--fill-color);\n",
              "    }\n",
              "    30% {\n",
              "      border-color: transparent;\n",
              "      border-left-color: var(--fill-color);\n",
              "      border-top-color: var(--fill-color);\n",
              "      border-right-color: var(--fill-color);\n",
              "    }\n",
              "    40% {\n",
              "      border-color: transparent;\n",
              "      border-right-color: var(--fill-color);\n",
              "      border-top-color: var(--fill-color);\n",
              "    }\n",
              "    60% {\n",
              "      border-color: transparent;\n",
              "      border-right-color: var(--fill-color);\n",
              "    }\n",
              "    80% {\n",
              "      border-color: transparent;\n",
              "      border-right-color: var(--fill-color);\n",
              "      border-bottom-color: var(--fill-color);\n",
              "    }\n",
              "    90% {\n",
              "      border-color: transparent;\n",
              "      border-bottom-color: var(--fill-color);\n",
              "    }\n",
              "  }\n",
              "</style>\n",
              "\n",
              "  <script>\n",
              "    async function quickchart(key) {\n",
              "      const quickchartButtonEl =\n",
              "        document.querySelector('#' + key + ' button');\n",
              "      quickchartButtonEl.disabled = true;  // To prevent multiple clicks.\n",
              "      quickchartButtonEl.classList.add('colab-df-spinner');\n",
              "      try {\n",
              "        const charts = await google.colab.kernel.invokeFunction(\n",
              "            'suggestCharts', [key], {});\n",
              "      } catch (error) {\n",
              "        console.error('Error during call to suggestCharts:', error);\n",
              "      }\n",
              "      quickchartButtonEl.classList.remove('colab-df-spinner');\n",
              "      quickchartButtonEl.classList.add('colab-df-quickchart-complete');\n",
              "    }\n",
              "    (() => {\n",
              "      let quickchartButtonEl =\n",
              "        document.querySelector('#df-13d003c3-309f-4a97-847d-d49d0316174a button');\n",
              "      quickchartButtonEl.style.display =\n",
              "        google.colab.kernel.accessAllowed ? 'block' : 'none';\n",
              "    })();\n",
              "  </script>\n",
              "</div>\n",
              "    </div>\n",
              "  </div>\n"
            ]
          },
          "metadata": {},
          "execution_count": 25
        }
      ]
    },
    {
      "cell_type": "markdown",
      "source": [
        "## Insights:\n",
        "Of the total 1250 job listings, Bengaluru accounts for 43%, making it the city with the highest number of Data Science jobs, followed by Pune, which comprises 10% of the listings, and Gurugram with 8.5% of the total jobs."
      ],
      "metadata": {
        "id": "z11PbNjDpVuA"
      }
    },
    {
      "cell_type": "markdown",
      "source": [
        "# Companies actively hiring for Data Scientists"
      ],
      "metadata": {
        "id": "M-bPRuN_qGfe"
      }
    },
    {
      "cell_type": "code",
      "source": [
        "data=jobs_df['Company'].value_counts()[:15].reset_index()\n",
        "data.columns=['Company','Jobs']\n",
        "\n",
        "# Create a bar plot using Seaborn\n",
        "plt.figure(figsize=(8, 6))\n",
        "sns.barplot(y='Company', x='Jobs', data=data, palette='colorblind', orient='h')\n",
        "\n",
        "# Adding labels and title\n",
        "plt.ylabel('Company')\n",
        "plt.xlabel('No of Job Listings')\n",
        "plt.title('Companies actively hiring for Data Science jobs')\n",
        "\n",
        "# Show plot\n",
        "plt.show()\n"
      ],
      "metadata": {
        "id": "G-cheqC-qN86",
        "colab": {
          "base_uri": "https://localhost:8080/",
          "height": 584
        },
        "outputId": "788b4496-7064-426a-be87-0a16e08ee727"
      },
      "execution_count": 28,
      "outputs": [
        {
          "output_type": "display_data",
          "data": {
            "text/plain": [
              "<Figure size 800x600 with 1 Axes>"
            ],
            "image/png": "[encoded data removed]"
          },
          "metadata": {}
        }
      ]
    },
    {
      "cell_type": "markdown",
      "source": [
        "## Insights\n",
        "\n",
        "The above mentioned companies have listed most number of vacancies in recent times.\n",
        "\n",
        "Boyen Haddin & The Giant HR Consultant has came out with 66 jobs followed by LTIMIndtree and EXL.\n",
        "IT giants like Google, TCS, Genpact are also listed many job posts."
      ],
      "metadata": {
        "id": "aNTytBBswI2n"
      }
    },
    {
      "cell_type": "markdown",
      "source": [],
      "metadata": {
        "id": "Nn7wbylgxHkh"
      }
    },
    {
      "cell_type": "code",
      "source": [
        "data=jobs_df['Seniority-Level'].value_counts().reset_index()\n",
        "data.columns=['Seniority-Level', 'Count']\n",
        "\n",
        "\n",
        "# Creating the pie chart\n",
        "plt.figure(figsize=(6, 6))  # Adjust the figure size as needed\n",
        "plt.pie(data['Count'], labels=data['Seniority-Level'], autopct='%1.0f%%', startangle=140)\n",
        "plt.axis('equal')  # Equal aspect ratio ensures that pie is drawn as a circle\n",
        "\n",
        "# Optional: Add a title\n",
        "plt.title('Seniority level Vs Jobs')\n",
        "\n",
        "# Show the pie chart\n",
        "plt.show()"
      ],
      "metadata": {
        "colab": {
          "base_uri": "https://localhost:8080/",
          "height": 521
        },
        "id": "DUr__bKEv0xT",
        "outputId": "4414c693-f3e0-4fd0-9ff3-44b834c82944"
      },
      "execution_count": 45,
      "outputs": [
        {
          "output_type": "display_data",
          "data": {
            "text/plain": [
              "<Figure size 600x600 with 1 Axes>"
            ],
            "image/png": "[encoded data removed]"
          },
          "metadata": {}
        }
      ]
    },
    {
      "cell_type": "markdown",
      "source": [
        "## Insights\n",
        "\n",
        "Most of the jobs posted are either for mid-senior level or entry-level posts."
      ],
      "metadata": {
        "id": "hEEcl1RTy4pz"
      }
    },
    {
      "cell_type": "markdown",
      "source": [
        "# Employment type"
      ],
      "metadata": {
        "id": "D-q78TGrzHxt"
      }
    },
    {
      "cell_type": "code",
      "source": [
        "data=jobs_df['Employment-Type'].value_counts().reset_index()\n",
        "data.columns=['Type', 'Count']\n",
        "\n",
        "# Create a bar plot using Seaborn\n",
        "plt.figure(figsize=(8, 6))\n",
        "sns.barplot(y='Count', x='Type', data=data, palette='colorblind')\n",
        "\n",
        "# Adding labels and title\n",
        "plt.xlabel('Employment Type')\n",
        "plt.ylabel('No of Job Listings')\n",
        "plt.title('Employment Type Vs No of Jobs')\n",
        "\n",
        "# Show plot\n",
        "plt.show()\n"
      ],
      "metadata": {
        "colab": {
          "base_uri": "https://localhost:8080/",
          "height": 564
        },
        "id": "6NxNz8Xny3Zm",
        "outputId": "541260d9-5f26-4159-e476-03174e800237"
      },
      "execution_count": 36,
      "outputs": [
        {
          "output_type": "display_data",
          "data": {
            "text/plain": [
              "<Figure size 800x600 with 1 Axes>"
            ],
            "image/png": "[encoded data removed]"
          },
          "metadata": {}
        }
      ]
    },
    {
      "cell_type": "markdown",
      "source": [
        "## Insights\n",
        "\n",
        "It is quite evident from the graph that mostly Full Time opportunities are present in Data Science in India."
      ],
      "metadata": {
        "id": "vFBytJ7M0QHV"
      }
    },
    {
      "cell_type": "markdown",
      "source": [
        "# Job Function Vs No of roles"
      ],
      "metadata": {
        "id": "2tKSkO4WAQw3"
      }
    },
    {
      "cell_type": "code",
      "source": [
        "jobs_df['Job-Function'].value_counts()"
      ],
      "metadata": {
        "colab": {
          "base_uri": "https://localhost:8080/"
        },
        "id": "rBEEo4vfxVdz",
        "outputId": "26aee9cd-b137-4595-c05f-7d1dff8bf1e4"
      },
      "execution_count": 37,
      "outputs": [
        {
          "output_type": "execute_result",
          "data": {
            "text/plain": [
              "Engineering and Information Technology                   664\n",
              "Information Technology                                   268\n",
              "Other                                                     57\n",
              "Engineering                                               39\n",
              "Analyst                                                   32\n",
              "Information Technology and Engineering                    23\n",
              "Information Technology, Analyst, and Engineering          21\n",
              "Research, Analyst, and Information Technology             17\n",
              "Research                                                  16\n",
              "General Business, Strategy/Planning, and Consulting       13\n",
              "Science, Research, and Other                              12\n",
              "Consulting and Information Technology                     11\n",
              "Engineering, Information Technology, and Analyst           9\n",
              "Project Management, Other, and Information Technology      8\n",
              "Design and Information Technology                          7\n",
              "Finance                                                    7\n",
              "Analyst and Research                                       6\n",
              "Sales                                                      4\n",
              "Production                                                 3\n",
              "Education                                                  3\n",
              "Name: Job-Function, dtype: int64"
            ]
          },
          "metadata": {},
          "execution_count": 37
        }
      ]
    },
    {
      "cell_type": "code",
      "source": [
        "def redefine_categories(x):\n",
        "  l1=('Engineering and Information Technology','Information Technology','Engineering', 'Information Technology and Engineering',\n",
        "      'Information Technology, Analyst, and Engineering','Engineering, Information Technology, and Analyst','Project Management, Other, and Information Technology',\n",
        "      'Design and Information Technology')\n",
        "  l2=('Analyst', 'Research, Analyst, and Information Technology','Research','Science, Research, and Other','Analyst and Research')\n",
        "  l3=('General Business, Strategy/Planning, and Consulting','Consulting and Information Technology')\n",
        "  l4=('Finance','Sales', 'Production','Education')\n",
        "\n",
        "  if x in l1:\n",
        "    x='Engineering and Technology'\n",
        "  elif x in l2:\n",
        "    x='Research and Analysis'\n",
        "  elif x in l3:\n",
        "    x='Consulting and Business Strategy'\n",
        "  elif x in l4:\n",
        "    x='Sales/Production/Education/Finance'\n",
        "  return x\n"
      ],
      "metadata": {
        "id": "KFTeCn2M3RnW"
      },
      "execution_count": 55,
      "outputs": []
    },
    {
      "cell_type": "code",
      "source": [
        "jobs_df['Job-Function-Category']= jobs_df['Job-Function'].apply(redefine_categories)\n"
      ],
      "metadata": {
        "id": "T32UWJf30yvJ"
      },
      "execution_count": 57,
      "outputs": []
    },
    {
      "cell_type": "code",
      "source": [
        "data=jobs_df['Job-Function-Category'].value_counts().reset_index()\n",
        "data.columns=['Category','Jobs']\n",
        "\n",
        "# Creating the pie chart\n",
        "plt.figure(figsize=(6, 6))  # Adjust the figure size as needed\n",
        "plt.pie(data['Jobs'], labels=data['Category'], autopct='%1.0f%%', startangle=140)\n",
        "plt.axis('equal')  # Equal aspect ratio ensures that pie is drawn as a circle\n",
        "\n",
        "# Optional: Add a title\n",
        "plt.title('Roles Vs Job-Function')\n",
        "\n",
        "\n",
        "plt.tight_layout()\n",
        "# Show the pie chart\n",
        "plt.show()"
      ],
      "metadata": {
        "colab": {
          "base_uri": "https://localhost:8080/",
          "height": 607
        },
        "id": "VcC2dffv7oel",
        "outputId": "54594a30-779f-4361-eb89-b6365e434f7d"
      },
      "execution_count": 59,
      "outputs": [
        {
          "output_type": "display_data",
          "data": {
            "text/plain": [
              "<Figure size 600x600 with 1 Axes>"
            ],
            "image/png": "[encoded data removed]"
          },
          "metadata": {}
        }
      ]
    },
    {
      "cell_type": "markdown",
      "source": [
        "## Insight\n",
        "\n",
        "The chart clearly indicates that Information Technology and Engineering-related roles seem to constitute a significant portion."
      ],
      "metadata": {
        "id": "Ln826XXd_IcO"
      }
    },
    {
      "cell_type": "code",
      "source": [],
      "metadata": {
        "id": "bpQRQW_2_w1i"
      },
      "execution_count": null,
      "outputs": []
    }
  ]
}